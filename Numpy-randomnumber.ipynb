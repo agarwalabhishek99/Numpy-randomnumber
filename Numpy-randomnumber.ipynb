{
 "cells": [
  {
   "cell_type": "code",
   "execution_count": 2,
   "metadata": {},
   "outputs": [
    {
     "name": "stdout",
     "output_type": "stream",
     "text": [
      "7\n"
     ]
    }
   ],
   "source": [
    "from numpy import random\n",
    "\n",
    "i = random.randint(10)       #int number\n",
    "\n",
    "print(i)"
   ]
  },
  {
   "cell_type": "code",
   "execution_count": 4,
   "metadata": {},
   "outputs": [
    {
     "name": "stdout",
     "output_type": "stream",
     "text": [
      "0.6753828458980887\n"
     ]
    }
   ],
   "source": [
    "from numpy import random\n",
    "\n",
    "i = random.rand()             #float number\n",
    "\n",
    "print(i)"
   ]
  },
  {
   "cell_type": "code",
   "execution_count": 6,
   "metadata": {},
   "outputs": [
    {
     "name": "stdout",
     "output_type": "stream",
     "text": [
      "[0.97697052 0.3135671  0.51040949 0.21884319 0.01659852 0.81508453\n",
      " 0.2922894  0.73642045 0.8919258  0.09411538 0.41395546]\n"
     ]
    }
   ],
   "source": [
    "from numpy import random\n",
    "\n",
    "i = random.rand(11)\n",
    "\n",
    "print(i)"
   ]
  },
  {
   "cell_type": "code",
   "execution_count": 8,
   "metadata": {},
   "outputs": [
    {
     "name": "stdout",
     "output_type": "stream",
     "text": [
      "[40  5 81 71 20 88  2 89 76 10]\n"
     ]
    }
   ],
   "source": [
    "from numpy import random\n",
    "\n",
    "i = random.randint(100, size=(10))                     #generate 10 random int from 0 to 100     \n",
    "\n",
    "print(i)"
   ]
  },
  {
   "cell_type": "code",
   "execution_count": 10,
   "metadata": {},
   "outputs": [
    {
     "name": "stdout",
     "output_type": "stream",
     "text": [
      "[[10 20 84 36 42]\n",
      " [40 45 99 20 74]\n",
      " [27 50 43 29 47]]\n"
     ]
    }
   ],
   "source": [
    "from numpy import random\n",
    "\n",
    "i = random.randint(100, size=(3, 5))             #generate 2-D array with 3 rows\n",
    "\n",
    "print(i)"
   ]
  },
  {
   "cell_type": "code",
   "execution_count": 12,
   "metadata": {},
   "outputs": [
    {
     "name": "stdout",
     "output_type": "stream",
     "text": [
      "[[81 94 61 43 92]\n",
      " [ 0  7 46 93 61]\n",
      " [ 3 85 12 79 73]\n",
      " [19 37 67 97 95]\n",
      " [78 38 77 49 10]]\n"
     ]
    }
   ],
   "source": [
    "from numpy import random\n",
    "\n",
    "i = random.randint(100, size=(5, 5))           #generate 2-D array with 3 rows\n",
    "\n",
    "print(i)"
   ]
  },
  {
   "cell_type": "code",
   "execution_count": 13,
   "metadata": {},
   "outputs": [
    {
     "name": "stdout",
     "output_type": "stream",
     "text": [
      "[[[65 89]\n",
      "  [48 49]\n",
      "  [73 44]\n",
      "  [32 20]\n",
      "  [13  7]]\n",
      "\n",
      " [[98 75]\n",
      "  [87 84]\n",
      "  [28 32]\n",
      "  [91 90]\n",
      "  [ 8 13]]\n",
      "\n",
      " [[93 21]\n",
      "  [22 78]\n",
      "  [49 48]\n",
      "  [32 99]\n",
      "  [ 3  6]]]\n"
     ]
    }
   ],
   "source": [
    "from numpy import random\n",
    "\n",
    "i = random.randint(100, size=(3, 5, 2))\n",
    "\n",
    "print(i)"
   ]
  },
  {
   "cell_type": "code",
   "execution_count": 14,
   "metadata": {},
   "outputs": [
    {
     "name": "stdout",
     "output_type": "stream",
     "text": [
      "[[0.50443922 0.75009958 0.62660138 0.93851183 0.12536086]\n",
      " [0.04176804 0.69685451 0.80225597 0.89721535 0.26320252]\n",
      " [0.04646703 0.1623153  0.47392421 0.27879036 0.20573301]]\n"
     ]
    }
   ],
   "source": [
    "from numpy import random\n",
    "\n",
    "i = random.rand(3, 5)\n",
    "\n",
    "print(i)"
   ]
  }
 ],
 "metadata": {
  "kernelspec": {
   "display_name": "Python 3",
   "language": "python",
   "name": "python3"
  },
  "language_info": {
   "codemirror_mode": {
    "name": "ipython",
    "version": 3
   },
   "file_extension": ".py",
   "mimetype": "text/x-python",
   "name": "python",
   "nbconvert_exporter": "python",
   "pygments_lexer": "ipython3",
   "version": "3.8.5"
  }
 },
 "nbformat": 4,
 "nbformat_minor": 4
}
